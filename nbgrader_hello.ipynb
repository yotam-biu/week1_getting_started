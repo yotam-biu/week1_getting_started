{
 "cells": [
  {
   "cell_type": "markdown",
   "id": "27cf8f27-dc02-4caa-bd0f-25d0f3447a19",
   "metadata": {
    "nbgrader": {
     "grade": false,
     "grade_id": "instroction",
     "locked": true,
     "schema_version": 3,
     "solution": false,
     "task": false
    }
   },
   "source": [
    "This is an assignment"
   ]
  },
  {
   "cell_type": "code",
   "execution_count": 3,
   "id": "a7b72fc7-bb48-40f7-834d-5a723ea3b358",
   "metadata": {
    "nbgrader": {
     "grade": false,
     "grade_id": "function",
     "locked": true,
     "schema_version": 3,
     "solution": false,
     "task": false
    }
   },
   "outputs": [],
   "source": [
    "def hello_world():\n",
    "    return \"Hello World!\""
   ]
  },
  {
   "cell_type": "code",
   "execution_count": 6,
   "id": "dffb1855-0504-4811-88f7-44565f8c8953",
   "metadata": {
    "nbgrader": {
     "grade": false,
     "grade_id": "the answer",
     "locked": false,
     "schema_version": 3,
     "solution": true,
     "task": false
    }
   },
   "outputs": [],
   "source": [
    "def hello_world():\n",
    "    return \"Hello\""
   ]
  },
  {
   "cell_type": "code",
   "execution_count": 7,
   "id": "dc42d0ee-7644-474a-85fb-9108215b3adf",
   "metadata": {
    "nbgrader": {
     "grade": true,
     "grade_id": "test",
     "locked": true,
     "points": 10,
     "schema_version": 3,
     "solution": false,
     "task": false
    }
   },
   "outputs": [],
   "source": [
    "assert hello_world() == \"Hello!\""
   ]
  },
  {
   "cell_type": "code",
   "execution_count": null,
   "id": "bc8578b5-8876-4121-a3fb-1d8f18efacb2",
   "metadata": {},
   "outputs": [],
   "source": []
  }
 ],
 "metadata": {
  "kernelspec": {
   "display_name": "Python 3 (ipykernel)",
   "language": "python",
   "name": "python3"
  },
  "language_info": {
   "codemirror_mode": {
    "name": "ipython",
    "version": 3
   },
   "file_extension": ".py",
   "mimetype": "text/x-python",
   "name": "python",
   "nbconvert_exporter": "python",
   "pygments_lexer": "ipython3",
   "version": "3.11.7"
  }
 },
 "nbformat": 4,
 "nbformat_minor": 5
}
